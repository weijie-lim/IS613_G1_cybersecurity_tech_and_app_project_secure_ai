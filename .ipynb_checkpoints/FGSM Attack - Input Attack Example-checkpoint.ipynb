{
 "cells": [
  {
   "cell_type": "markdown",
   "id": "ec3c3f84",
   "metadata": {},
   "source": [
    "<h1> Lab </h1>\n",
    "\n",
    "This lab serves as an explanation of how FGSM attack works as one of the ways an input attack can be executed. Take away the idea that noise can be added on the input and change its loss function such that it gets misclassified by the AI model.\n",
    "\n",
    "<h3> White-box vs Black-box attacks </h3>\n",
    "A white-box attack assumes the attacker has full knowledge and access to the model, including architecture, inputs and outputs and weights.\n",
    "\n",
    "A black-box attack assumes the attacker only has access to the inputs and outputs of the model and knows nothing about the underlying architecture or weights. \n",
    "\n",
    "\n",
    "<h3> Goals </h3>\n",
    "There are also several types of goals, including misclassification and source/target misclassification. \n",
    "\n",
    "A goal of misclassification means the adversary only wants the output classification to be wrong but does not care what the new classification is. \n",
    "\n",
    "A source/target misclassification means the adversary wants to alter an image that is originally of a specific source class so that it is classified as a specific target class.\n",
    "\n",
    "\n",
    "<h3> FGSM </h3>\n",
    "In this case, the FGSM attack is a white-box attack with the goal of misclassification"
   ]
  },
  {
   "cell_type": "code",
   "execution_count": null,
   "id": "01d49988",
   "metadata": {},
   "outputs": [],
   "source": [
    "<h3> Example From the Slides </h3>\n",
    "\n"
   ]
  }
 ],
 "metadata": {
  "kernelspec": {
   "display_name": "Python 3 (ipykernel)",
   "language": "python",
   "name": "python3"
  },
  "language_info": {
   "codemirror_mode": {
    "name": "ipython",
    "version": 3
   },
   "file_extension": ".py",
   "mimetype": "text/x-python",
   "name": "python",
   "nbconvert_exporter": "python",
   "pygments_lexer": "ipython3",
   "version": "3.9.12"
  }
 },
 "nbformat": 4,
 "nbformat_minor": 5
}
